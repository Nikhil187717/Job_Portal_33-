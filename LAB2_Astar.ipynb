{
 "cells": [
  {
   "cell_type": "code",
   "execution_count": 1,
   "metadata": {},
   "outputs": [],
   "source": [
    "import heapq"
   ]
  },
  {
   "cell_type": "code",
   "execution_count": 2,
   "metadata": {},
   "outputs": [
    {
     "name": "stdout",
     "output_type": "stream",
     "text": [
      "Path found: ['A', 'B', 'E', 'G']\n"
     ]
    }
   ],
   "source": [
    "\n",
    "class Node:\n",
    "    def __init__(self, name, g=0, h=0):\n",
    "        self.name = name\n",
    "        self.g = g  # Cost to reach this node\n",
    "        self.h = h  # Heuristic estimate to the goal\n",
    "        self.f = g + h  # Total cost (g + h)\n",
    "        self.parent = None\n",
    "\n",
    "    def __lt__(self, other):\n",
    "        return self.f < other.f\n",
    "\n",
    "def a_star_search(graph, start, goal, heuristics):\n",
    "    open_set = []\n",
    "    closed_set = set()\n",
    "\n",
    "    # Create start node and add it to the priority queue\n",
    "    start_node = Node(start, g=0, h=heuristics[start])\n",
    "    heapq.heappush(open_set, start_node)\n",
    "\n",
    "    while open_set:\n",
    "        # Pop the node with the lowest f-value\n",
    "        current_node = heapq.heappop(open_set)\n",
    "\n",
    "        # If we reach the goal, reconstruct the path\n",
    "        if current_node.name == goal:\n",
    "            path = []\n",
    "            while current_node:\n",
    "                path.append(current_node.name)\n",
    "                current_node = current_node.parent\n",
    "            return path[::-1]\n",
    "\n",
    "        # Mark the current node as visited\n",
    "        closed_set.add(current_node.name)\n",
    "\n",
    "        # Explore neighbors\n",
    "        for neighbor, cost in graph[current_node.name].items():\n",
    "            if neighbor in closed_set:\n",
    "                continue\n",
    "\n",
    "            g_cost = current_node.g + cost\n",
    "            h_cost = heuristics[neighbor]\n",
    "            neighbor_node = Node(neighbor, g=g_cost, h=h_cost)\n",
    "            neighbor_node.parent = current_node\n",
    "\n",
    "            # Check if this neighbor is already in the open set with a lower cost\n",
    "            if any(open_node.name == neighbor and open_node.f <= neighbor_node.f for open_node in open_set):\n",
    "                continue\n",
    "\n",
    "            heapq.heappush(open_set, neighbor_node)\n",
    "\n",
    "    return None  # No path found\n",
    "\n",
    "# Example Usage\n",
    "if __name__ == \"__main__\":\n",
    "    # Define the graph as an adjacency list\n",
    "    graph = {\n",
    "        \"A\": {\"B\": 1, \"C\": 3},\n",
    "        \"B\": {\"A\": 1, \"D\": 1, \"E\": 4},\n",
    "        \"C\": {\"A\": 3, \"F\": 2},\n",
    "        \"D\": {\"B\": 1},\n",
    "        \"E\": {\"B\": 4, \"G\": 2},\n",
    "        \"F\": {\"C\": 2, \"G\": 3},\n",
    "        \"G\": {\"E\": 2, \"F\": 3},\n",
    "    }\n",
    "\n",
    "    # Define heuristic values for each node\n",
    "    heuristics = {\n",
    "        \"A\": 7,\n",
    "        \"B\": 6,\n",
    "        \"C\": 4,\n",
    "        \"D\": 5,\n",
    "        \"E\": 3,\n",
    "        \"F\": 2,\n",
    "        \"G\": 0,\n",
    "    }\n",
    "\n",
    "    # Run the A* algorithm\n",
    "    start_node = \"A\"\n",
    "    goal_node = \"G\"\n",
    "    path = a_star_search(graph, start_node, goal_node, heuristics)\n",
    "\n",
    "    if path:\n",
    "        print(f\"Path found: {path}\")\n",
    "    else:\n",
    "        print(\"No path found.\")\n"
   ]
  }
 ],
 "metadata": {
  "kernelspec": {
   "display_name": "base",
   "language": "python",
   "name": "python3"
  },
  "language_info": {
   "codemirror_mode": {
    "name": "ipython",
    "version": 3
   },
   "file_extension": ".py",
   "mimetype": "text/x-python",
   "name": "python",
   "nbconvert_exporter": "python",
   "pygments_lexer": "ipython3",
   "version": "3.11.4"
  }
 },
 "nbformat": 4,
 "nbformat_minor": 2
}
