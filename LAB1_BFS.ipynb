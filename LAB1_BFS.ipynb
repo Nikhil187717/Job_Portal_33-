{
 "cells": [
  {
   "cell_type": "code",
   "execution_count": 1,
   "metadata": {},
   "outputs": [],
   "source": [
    "import heapq"
   ]
  },
  {
   "cell_type": "code",
   "execution_count": 3,
   "metadata": {},
   "outputs": [
    {
     "name": "stdout",
     "output_type": "stream",
     "text": [
      "Best path: ['A', 'C', 'F', 'G'], Cost: 10\n"
     ]
    }
   ],
   "source": [
    "\n",
    "\n",
    "def best_first_search(graph, start, goal, heuristic):\n",
    " \n",
    "    # Priority queue to store (heuristic_cost, current_node, path, cost)\n",
    "    priority_queue = []\n",
    "    heapq.heappush(priority_queue, (heuristic[start], start, [start], 0))\n",
    "\n",
    "    visited = set()  # To keep track of visited nodes\n",
    "\n",
    "    while priority_queue:\n",
    "        current_h_cost, current_node, path, current_cost = heapq.heappop(priority_queue)\n",
    "\n",
    "        if current_node in visited:\n",
    "            continue\n",
    "\n",
    "        visited.add(current_node)\n",
    "\n",
    "        # If the goal is reached, return the path and cost\n",
    "        if current_node == goal:\n",
    "            return path, current_cost\n",
    "\n",
    "        # Explore neighbors\n",
    "        for neighbor, weight in graph.get(current_node, []):\n",
    "            if neighbor not in visited:\n",
    "                total_cost = current_cost + weight\n",
    "                heapq.heappush(priority_queue, (heuristic[neighbor], neighbor, path + [neighbor], total_cost))\n",
    "\n",
    "    # If the goal is not reachable\n",
    "    return None, float('inf')\n",
    "\n",
    "# Example Usage\n",
    "graph = {\n",
    "    'A': [('B', 1), ('C', 3)],\n",
    "    'B': [('D', 1), ('E', 6)],\n",
    "    'C': [('F', 2)],\n",
    "    'D': [('G', 1)],\n",
    "    'E': [],\n",
    "    'F': [('G', 5)],\n",
    "    'G': []\n",
    "}\n",
    "\n",
    "heuristic = {\n",
    "    'A': 7,\n",
    "    'B': 6,\n",
    "    'C': 4,\n",
    "    'D': 3,\n",
    "    'E': 7,\n",
    "    'F': 5,\n",
    "    'G': 0\n",
    "}\n",
    "\n",
    "start_node = 'A'\n",
    "goal_node = 'G'\n",
    "\n",
    "path, cost = best_first_search(graph, start_node, goal_node, heuristic)\n",
    "\n",
    "if path:\n",
    "    print(f\"Best path: {path}, Cost: {cost}\")\n",
    "else:\n",
    "    print(\"No path found.\")\n"
   ]
  },
  {
   "cell_type": "code",
   "execution_count": null,
   "metadata": {},
   "outputs": [],
   "source": []
  }
 ],
 "metadata": {
  "kernelspec": {
   "display_name": "base",
   "language": "python",
   "name": "python3"
  },
  "language_info": {
   "codemirror_mode": {
    "name": "ipython",
    "version": 3
   },
   "file_extension": ".py",
   "mimetype": "text/x-python",
   "name": "python",
   "nbconvert_exporter": "python",
   "pygments_lexer": "ipython3",
   "version": "3.11.4"
  }
 },
 "nbformat": 4,
 "nbformat_minor": 2
}
